{
 "cells": [
  {
   "cell_type": "code",
   "execution_count": 2,
   "id": "7246d1eb-9e01-40da-bd51-cf6ad8284320",
   "metadata": {},
   "outputs": [
    {
     "name": "stdout",
     "output_type": "stream",
     "text": [
      "Jarak dokumen 1 dan 2: 3.1622776601683795\n",
      "Jarak dokumen 1 dan 3: 3.7416573867739413\n",
      "Jarak dokumen 2 dan 3: 3.4641016151377544\n"
     ]
    }
   ],
   "source": [
    "from sklearn.feature_extraction.text import CountVectorizer\n",
    "from sklearn.metrics.pairwise import euclidean_distances\n",
    "\n",
    "corpus = [\n",
    "    \"Linux has been around since the mid-1990s.\",\n",
    "    \"Linux distributions include the Linux kernel.\",\n",
    "    \"Linux is one of the most prominent open-source software.\",\n",
    "]\n",
    "\n",
    "vectorizer = CountVectorizer()\n",
    "vectorized_X = vectorizer.fit_transform(corpus).toarray()\n",
    "distances = euclidean_distances(vectorized_X)\n",
    "\n",
    "for i in range(len(distances)):\n",
    "    for j in range(i, len(distances)):\n",
    "        if i == j:\n",
    "            continue\n",
    "        jarak = distances[i][j]\n",
    "        print(f\"Jarak dokumen {i+1} dan {j+1}: {jarak}\")\n"
   ]
  },
  {
   "cell_type": "code",
   "execution_count": 3,
   "id": "2fd624cb-b3ed-4266-8dc7-fe0d70609ee0",
   "metadata": {},
   "outputs": [
    {
     "data": {
      "text/plain": [
       "['Linux has been around since the mid-1990s.',\n",
       " 'Linux distributions include the Linux kernel.',\n",
       " 'Linux is one of the most prominent open-source software.']"
      ]
     },
     "execution_count": 3,
     "metadata": {},
     "output_type": "execute_result"
    }
   ],
   "source": [
    "corpus"
   ]
  },
  {
   "cell_type": "code",
   "execution_count": 4,
   "id": "fa05c4ba-3be8-48a1-bd33-cf613a900f58",
   "metadata": {},
   "outputs": [
    {
     "data": {
      "text/plain": [
       "matrix([[1, 0, 0, 0, 1, 1, 0, 0, 0, 0],\n",
       "        [0, 1, 1, 1, 2, 0, 0, 0, 0, 0],\n",
       "        [0, 0, 0, 0, 1, 0, 1, 1, 1, 1]], dtype=int64)"
      ]
     },
     "execution_count": 4,
     "metadata": {},
     "output_type": "execute_result"
    }
   ],
   "source": [
    "from sklearn.feature_extraction.text import CountVectorizer\n",
    "\n",
    "vectorizer = CountVectorizer(stop_words='english')\n",
    "vectorized_X = vectorizer.fit_transform(corpus).todense()\n",
    "vectorized_X"
   ]
  },
  {
   "cell_type": "code",
   "execution_count": null,
   "id": "698f668e-82bc-4ab8-b09c-e3106528ce27",
   "metadata": {},
   "outputs": [],
   "source": [
    "vectorizer.get_feature_names()"
   ]
  }
 ],
 "metadata": {
  "kernelspec": {
   "display_name": "Python 3 (ipykernel)",
   "language": "python",
   "name": "python3"
  },
  "language_info": {
   "codemirror_mode": {
    "name": "ipython",
    "version": 3
   },
   "file_extension": ".py",
   "mimetype": "text/x-python",
   "name": "python",
   "nbconvert_exporter": "python",
   "pygments_lexer": "ipython3",
   "version": "3.12.2"
  }
 },
 "nbformat": 4,
 "nbformat_minor": 5
}
